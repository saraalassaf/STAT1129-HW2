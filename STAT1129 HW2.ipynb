{
 "cells": [
  {
   "cell_type": "code",
   "execution_count": 3,
   "id": "9320a9ed",
   "metadata": {},
   "outputs": [
    {
     "name": "stdout",
     "output_type": "stream",
     "text": [
      "0\n",
      "1\n",
      "2\n",
      "3\n",
      "4\n"
     ]
    }
   ],
   "source": [
    "n = 0\n",
    "while n < 10:\n",
    "    if n == 5:\n",
    "        break\n",
    "    print(n)\n",
    "    n = n+1"
   ]
  },
  {
   "cell_type": "code",
   "execution_count": 8,
   "id": "68afcfdb",
   "metadata": {},
   "outputs": [
    {
     "name": "stdout",
     "output_type": "stream",
     "text": [
      "0\n",
      "1\n",
      "2\n",
      "3\n",
      "4\n",
      "5 is not less than 5\n"
     ]
    }
   ],
   "source": [
    "n = 0\n",
    "while n < 5:\n",
    "    print(n)\n",
    "    n = n+1\n",
    "else:\n",
    "    print(n, \"is not less than 5\")"
   ]
  },
  {
   "cell_type": "code",
   "execution_count": 16,
   "id": "82131cfd",
   "metadata": {},
   "outputs": [
    {
     "name": "stdout",
     "output_type": "stream",
     "text": [
      "I like clementines\n",
      "I like grapes\n",
      "I like raspberries\n",
      "apple is really a fruit?\n"
     ]
    }
   ],
   "source": [
    "fav_fruits = [\"clementines\", \"grapes\", \"raspberries\", \"apples\", \"bananas\"]\n",
    "for fruit in fav_fruits:\n",
    "    if fruit == \"apples\":\n",
    "        break\n",
    "    print(\"I like\", fruit)\n",
    "print(\"apple is really a fruit?\")\n"
   ]
  },
  {
   "cell_type": "code",
   "execution_count": 17,
   "id": "b4880ad4",
   "metadata": {},
   "outputs": [
    {
     "name": "stdout",
     "output_type": "stream",
     "text": [
      "465\n"
     ]
    }
   ],
   "source": [
    "s = 0\n",
    "n = 1\n",
    "while n < 31:\n",
    "    s = s + n\n",
    "    n = n + 1\n",
    "print(s)"
   ]
  },
  {
   "cell_type": "code",
   "execution_count": 18,
   "id": "fac18942",
   "metadata": {},
   "outputs": [
    {
     "name": "stdout",
     "output_type": "stream",
     "text": [
      "Grade = C\n"
     ]
    }
   ],
   "source": [
    "score = 71\n",
    "if score >= 90:\n",
    "    print(\"Grade = A\")\n",
    "elif score >= 80:\n",
    "    print(\"Grade = B\")\n",
    "elif score >=70:\n",
    "    print(\"Grade = C\")\n",
    "elif score >= 60:\n",
    "    print(\"Grade = B\")\n",
    "else:\n",
    "    print(\"Grade = F\")"
   ]
  },
  {
   "cell_type": "code",
   "execution_count": 39,
   "id": "5bbb86b5",
   "metadata": {},
   "outputs": [
    {
     "name": "stdout",
     "output_type": "stream",
     "text": [
      "Andy : 88 Amy : 66 James : 90 Jules : 55 Arthur : 77 "
     ]
    }
   ],
   "source": [
    "marks = {'Andy':88, 'Amy':66, 'James':90, 'Jules':55, 'Arthur':77}\n",
    "for name, score in marks.items():\n",
    "    print(name, \":\", score, end = ' ')"
   ]
  },
  {
   "cell_type": "code",
   "execution_count": 43,
   "id": "79d2f7c1",
   "metadata": {},
   "outputs": [
    {
     "name": "stdout",
     "output_type": "stream",
     "text": [
      "75.2\n"
     ]
    }
   ],
   "source": [
    "sum_grade = 0\n",
    "for score in marks.values():\n",
    "    sum_grade += score\n",
    "avg_grade = sum_grade/len(marks.keys())\n",
    "print(avg_grade)"
   ]
  },
  {
   "cell_type": "code",
   "execution_count": 44,
   "id": "98459957",
   "metadata": {},
   "outputs": [
    {
     "data": {
      "text/plain": [
       "55"
      ]
     },
     "execution_count": 44,
     "metadata": {},
     "output_type": "execute_result"
    }
   ],
   "source": [
    "min(marks.values())"
   ]
  },
  {
   "cell_type": "code",
   "execution_count": 45,
   "id": "12161370",
   "metadata": {},
   "outputs": [
    {
     "data": {
      "text/plain": [
       "90"
      ]
     },
     "execution_count": 45,
     "metadata": {},
     "output_type": "execute_result"
    }
   ],
   "source": [
    "max(marks.values())"
   ]
  },
  {
   "cell_type": "code",
   "execution_count": 51,
   "id": "8621ef40",
   "metadata": {},
   "outputs": [
    {
     "name": "stdout",
     "output_type": "stream",
     "text": [
      "Andy\n",
      "Amy\n"
     ]
    }
   ],
   "source": [
    "for name in marks.keys():\n",
    "    if 'J' in name:\n",
    "        break\n",
    "    print(name)"
   ]
  },
  {
   "cell_type": "code",
   "execution_count": 52,
   "id": "de104f59",
   "metadata": {},
   "outputs": [
    {
     "name": "stdout",
     "output_type": "stream",
     "text": [
      "Andy\n",
      "Amy\n",
      "Arthur\n"
     ]
    }
   ],
   "source": [
    "for name in marks.keys():\n",
    "    if 'J' in name:\n",
    "        continue\n",
    "    print(name)"
   ]
  },
  {
   "cell_type": "code",
   "execution_count": null,
   "id": "10237653",
   "metadata": {},
   "outputs": [],
   "source": []
  }
 ],
 "metadata": {
  "kernelspec": {
   "display_name": "Python 3 (ipykernel)",
   "language": "python",
   "name": "python3"
  },
  "language_info": {
   "codemirror_mode": {
    "name": "ipython",
    "version": 3
   },
   "file_extension": ".py",
   "mimetype": "text/x-python",
   "name": "python",
   "nbconvert_exporter": "python",
   "pygments_lexer": "ipython3",
   "version": "3.9.13"
  }
 },
 "nbformat": 4,
 "nbformat_minor": 5
}
